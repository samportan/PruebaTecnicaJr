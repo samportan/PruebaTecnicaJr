{
 "cells": [
  {
   "attachments": {},
   "cell_type": "markdown",
   "metadata": {},
   "source": [
    "## Prueba 1: Escriba un programa que determine si un año dado es un año bisiesto. Un año normal tiene 365 días, los años bisiestos tienen 366, con un día extra en febrero.\n",
    "\n",
    "Tips: Así es como se determina si un año en particular es un año bisiesto.\n",
    "En cada año que es divisible por 4\n",
    "**excepto** cada año que es divisible por 100\n",
    "**a menos que** el año también sea divisible por 400\n",
    "p.ej. El año 2000:\n",
    "2000 ÷ 4 = 500 (Bisiesto)\n",
    "2000 ÷ 100 = 20 (no bisiesto)\n",
    "2000 ÷ 400 = 5 (¡Bisiesto!)\n",
    "Así que el año 2000 es un año bisiesto.\n",
    "Pero el año 2100 no es un año bisiesto porque:\n",
    "2100 ÷ 4 = 525 (Bisiesto)\n",
    "2100 ÷ 100 = 21 (no bisiesto)\n",
    "2100 ÷ 400 = 5,25 (no bisiesto)"
   ]
  },
  {
   "cell_type": "code",
   "execution_count": null,
   "metadata": {},
   "outputs": [],
   "source": [
    "# Escribe tu solución aquí.\n",
    "\n",
    "\n"
   ]
  },
  {
   "attachments": {},
   "cell_type": "markdown",
   "metadata": {},
   "source": [
    "## Prueba 2: Manejo de archivos JSON."
   ]
  },
  {
   "attachments": {},
   "cell_type": "markdown",
   "metadata": {},
   "source": [
    "2.1: Imprima el objeto Json en el formato correcto en la salida de la celda."
   ]
  },
  {
   "cell_type": "code",
   "execution_count": null,
   "metadata": {},
   "outputs": [],
   "source": [
    "# Escribe tu solución aquí."
   ]
  },
  {
   "attachments": {},
   "cell_type": "markdown",
   "metadata": {},
   "source": [
    "2.2: Obtenga el último objeto anidado dentro de la llave \"OpenPositions\"."
   ]
  },
  {
   "cell_type": "code",
   "execution_count": null,
   "metadata": {},
   "outputs": [],
   "source": [
    "# Escribe tu solución aquí."
   ]
  },
  {
   "attachments": {},
   "cell_type": "markdown",
   "metadata": {},
   "source": [
    "2.3: Cree una nueva llave llamada \"Relevance\" y agregue un valor de acuerdo con una regla lógica simple. en caso de que el\n",
    "La persona en la clave \"RequestedBy\" es un ejecutivo de nivel C (CFO, CEO o comienza con C.) asigne el\n",
    "valor de “Important”, de lo contrario asigne “Normal”."
   ]
  },
  {
   "cell_type": "code",
   "execution_count": null,
   "metadata": {},
   "outputs": [],
   "source": [
    "# Escribe tu solución aquí."
   ]
  },
  {
   "attachments": {},
   "cell_type": "markdown",
   "metadata": {},
   "source": [
    "## Prueba 3:  Consume cualquier API (a tu discresión) y muestra ejemplos de como usar los métodos 'Get' y 'Post'. \n"
   ]
  },
  {
   "cell_type": "code",
   "execution_count": null,
   "metadata": {},
   "outputs": [],
   "source": [
    "# Escribe tu solución aquí."
   ]
  }
 ],
 "metadata": {
  "kernelspec": {
   "display_name": "Python 3",
   "language": "python",
   "name": "python3"
  },
  "language_info": {
   "name": "python",
   "version": "3.10.9 (tags/v3.10.9:1dd9be6, Dec  6 2022, 20:01:21) [MSC v.1934 64 bit (AMD64)]"
  },
  "orig_nbformat": 4,
  "vscode": {
   "interpreter": {
    "hash": "d1a1120d6b703f94660d8a0a86efaeba37d220648474f25f942e1d3645fcdcb7"
   }
  }
 },
 "nbformat": 4,
 "nbformat_minor": 2
}

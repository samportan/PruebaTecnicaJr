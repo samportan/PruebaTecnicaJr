{
  "metadata": {
    "vscode": {
      "interpreter": {
        "hash": "d1a1120d6b703f94660d8a0a86efaeba37d220648474f25f942e1d3645fcdcb7"
      }
    },
    "kernelspec": {
      "name": "python",
      "display_name": "Python (Pyodide)",
      "language": "python"
    },
    "language_info": {
      "codemirror_mode": {
        "name": "python",
        "version": 3
      },
      "file_extension": ".py",
      "mimetype": "text/x-python",
      "name": "python",
      "nbconvert_exporter": "python",
      "pygments_lexer": "ipython3",
      "version": "3.8"
    }
  },
  "nbformat_minor": 4,
  "nbformat": 4,
  "cells": [
    {
      "cell_type": "markdown",
      "source": "## Prueba 1: Escriba un programa que determine si un año dado es un año bisiesto. Un año normal tiene 365 días, los años bisiestos tienen 366, con un día extra en febrero.\n\nTips: Así es como se determina si un año en particular es un año bisiesto.\nEn cada año que es divisible por 4\n**excepto** cada año que es divisible por 100\n**a menos que** el año también sea divisible por 400\np.ej. El año 2000:\n2000 ÷ 4 = 500 (Bisiesto)\n2000 ÷ 100 = 20 (no bisiesto)\n2000 ÷ 400 = 5 (¡Bisiesto!)\nAsí que el año 2000 es un año bisiesto.\nPero el año 2100 no es un año bisiesto porque:\n2100 ÷ 4 = 525 (Bisiesto)\n2100 ÷ 100 = 21 (no bisiesto)\n2100 ÷ 400 = 5,25 (no bisiesto)",
      "metadata": {}
    },
    {
      "cell_type": "code",
      "source": "year = int(input(\"Año: \"))\n\nif year  %4==0 and year %100 !=0 or year %400==0:\n    print(\"Es año bisiesto\")\nelse:\n    print(\"No es año bisiesto\")\n",
      "metadata": {},
      "execution_count": null,
      "outputs": []
    },
    {
      "cell_type": "markdown",
      "source": "## Prueba 2: Manejo de archivos JSON.",
      "metadata": {}
    },
    {
      "cell_type": "markdown",
      "source": "2.1: Imprima el objeto Json en el formato correcto en la salida de la celda.",
      "metadata": {}
    },
    {
      "cell_type": "code",
      "source": "import json\n\nwith open('PythonDevTestJson.json') as f:\n   data = json.load(f)\n\nprint(json.dumps(data, indent=4))",
      "metadata": {},
      "execution_count": null,
      "outputs": []
    },
    {
      "cell_type": "markdown",
      "source": "2.2: Obtenga el último objeto anidado dentro de la llave \"OpenPositions\".",
      "metadata": {}
    },
    {
      "cell_type": "code",
      "source": "import json\n\nwith open('PythonDevTestJson.json') as f:\n   json_data = json.load(f)\n\ndata = json.loads(json_data)\n\nprint(data[\"OpenPositions\"][-1])\n",
      "metadata": {},
      "execution_count": null,
      "outputs": []
    },
    {
      "cell_type": "markdown",
      "source": "2.3: Cree una nueva llave llamada \"Relevance\" y agregue un valor de acuerdo con una regla lógica simple. en caso de que el\nLa persona en la clave \"RequestedBy\" es un ejecutivo de nivel C (CFO, CEO o comienza con C.) asigne el\nvalor de “Important”, de lo contrario asigne “Normal”.",
      "metadata": {}
    },
    {
      "cell_type": "code",
      "source": "import json\n\nwith open('PythonDevTestJson.json') as f:\n   data = json.load(f)\n\nfor pos in data[\"OpenPositions\"]:\n    if pos[\"RequestedBy\"].startswith(\"C\") or pos[\"RequestedBy\"] in [\"CFO\", \"CEO\"]:\n        pos[\"Relevance\"] = \"Important\"\n    else:\n        pos[\"Relevance\"] = \"Normal\"",
      "metadata": {},
      "execution_count": null,
      "outputs": []
    },
    {
      "cell_type": "markdown",
      "source": "## Prueba 3:  Consume cualquier API (a tu discresión) y muestra ejemplos de como usar los métodos 'Get' y 'Post'. \n",
      "metadata": {}
    },
    {
      "cell_type": "code",
      "source": "import requests\n\n#Consumiendo pokeapi con GET (La api no soporta POST pero añado un ejemplo como si se pudiera)\n\nurl = \"https://pokeapi.co/api/v2/pokemon\"\n\nparameters = {\"limit\": 10, \"offset\": 0}\n\n#Peticion GET\nresponse = requests.get(url, params=parameters)\n\nif response.status_code == 200:\n    print(response.json())\nelse:\n    print(\"Error codigo: \", response.status_code)\n    \n#POST Request\n\ninfo = {\n    \"name\": \"Torogoz\",\n    \"type\": \"Flying\"\n}\n\nresponse = requests.post(url, json=info)\n\nif response.status_code == 201:\n    print(response.json())\nelse:\n    print(\"\"Error codigo: \"\", response.status_code)\n",
      "metadata": {},
      "execution_count": null,
      "outputs": []
    }
  ]
}